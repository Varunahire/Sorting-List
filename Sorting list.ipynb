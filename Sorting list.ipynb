{
 "cells": [
  {
   "cell_type": "code",
   "execution_count": 1,
   "id": "d8b9d3aa-1e27-4e2b-ae0c-2a44a473c8fa",
   "metadata": {},
   "outputs": [
    {
     "name": "stdout",
     "output_type": "stream",
     "text": [
      "list [(4, 1, 6), (5, 2, 1), (2, 3, 1)]\n"
     ]
    }
   ],
   "source": [
    "list1 = [(2,3,1),(4,1,6),(5,2,1)]\n",
    "list2 = []\n",
    "for i in list1:\n",
    "    list2.append(i[1])\n",
    "list2.sort()\n",
    "list3 = list()\n",
    "for j in list2:\n",
    "    for k in list1:\n",
    "        if k[1] == j:\n",
    "            list3.append(k)\n",
    "print('list',list3)"
   ]
  },
  {
   "cell_type": "code",
   "execution_count": 4,
   "id": "54acaeba-2281-427e-b407-36965bf9ef1b",
   "metadata": {},
   "outputs": [
    {
     "name": "stdout",
     "output_type": "stream",
     "text": [
      "10 should be 8\n"
     ]
    }
   ],
   "source": [
    "list1=[2,4,6,10]\n",
    "k=list1[0]\n",
    "for i in range(1,len(list1)):\n",
    "    if(list1[i]==k+2):\n",
    "        k=list1[i]\n",
    "        continue\n",
    "    else:\n",
    "        print(list1[i],'should be',list1[i-1]+2)\n",
    "    break"
   ]
  },
  {
   "cell_type": "code",
   "execution_count": null,
   "id": "fa3d700f-19e9-402d-9f0a-5ce8bddc093e",
   "metadata": {},
   "outputs": [],
   "source": []
  }
 ],
 "metadata": {
  "kernelspec": {
   "display_name": "Python 3 (ipykernel)",
   "language": "python",
   "name": "python3"
  },
  "language_info": {
   "codemirror_mode": {
    "name": "ipython",
    "version": 3
   },
   "file_extension": ".py",
   "mimetype": "text/x-python",
   "name": "python",
   "nbconvert_exporter": "python",
   "pygments_lexer": "ipython3",
   "version": "3.11.7"
  }
 },
 "nbformat": 4,
 "nbformat_minor": 5
}
